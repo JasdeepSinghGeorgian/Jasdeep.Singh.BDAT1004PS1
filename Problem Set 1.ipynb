{
 "cells": [
  {
   "cell_type": "markdown",
   "id": "fa85a80f",
   "metadata": {},
   "source": [
    " # Problem Set 1"
   ]
  },
  {
   "cell_type": "markdown",
   "id": "0d5c080a",
   "metadata": {},
   "source": [
    "## <u>Question 1:</u> \n",
    "What data type is each of the following (evaluate where necessary)?\n",
    "1. 5\n",
    "2. 5.0\n",
    "3. 5 > 1\n",
    "4. '5'\n",
    "5. 5 * 2\n",
    "6. '5' * 2\n",
    "7. '5' + '2'\n",
    "8. 5 / 2\n",
    "9. 5 % 2\n",
    "10. {5,2,1}\n",
    "11. 5==3\n",
    "12. Pi (the number)\n"
   ]
  },
  {
   "cell_type": "markdown",
   "id": "ffe64ab4",
   "metadata": {},
   "source": [
    "### <u> Answer 1 :</u>\n",
    "1.\tInteger\n",
    "2.\tFloat\n",
    "3.\tBoolean\n",
    "4.\tCharacter\n",
    "5.\tInteger\n",
    "6.\tString\n",
    "7.\tString\n",
    "8.\tFloat\n",
    "9.\tInteger\n",
    "10.\tSet\n",
    "11.\tBoolean\n",
    "12.\tFloat\n"
   ]
  },
  {
   "cell_type": "markdown",
   "id": "57776404",
   "metadata": {},
   "source": [
    "## <u> Question 2 :</u>\n",
    "Write (and evaluate) python expressions that answer these questions:\n",
    "1. How many letters are there in 'Supercalifragilisticexpialidocious'?\n",
    "2. Does 'Supercalifragilisticexpialidocious' contain 'ice' as a substring?\n",
    "3. Which of the following words is the longest: Supercalifragilisticexpialidocious, Honorificabilitudinitatibus, or Bababadalgharaghtakamminarronnkonn?\n",
    "4. Which composer comes first in the dictionary: 'Berlioz', 'Borodin', 'Brian', 'Bartok', 'Bellini', 'Buxtehude', 'Bernstein'. Which one comes last?"
   ]
  },
  {
   "cell_type": "code",
   "execution_count": 75,
   "id": "4ba8dbff",
   "metadata": {},
   "outputs": [
    {
     "name": "stdout",
     "output_type": "stream",
     "text": [
      "34\n"
     ]
    }
   ],
   "source": [
    "# Answer 2.1\n",
    "a = \"Supercalifragilisticexpialidocious\"\n",
    "print(len(a))"
   ]
  },
  {
   "cell_type": "code",
   "execution_count": 76,
   "id": "e72abc08",
   "metadata": {},
   "outputs": [
    {
     "name": "stdout",
     "output_type": "stream",
     "text": [
      "True\n"
     ]
    }
   ],
   "source": [
    "# Answer 2.2\n",
    "firstString = \"Supercalifragilisticexpialidocious\"\n",
    "secondString = \"ice\"\n",
    "print(secondString in firstString)"
   ]
  },
  {
   "cell_type": "code",
   "execution_count": 77,
   "id": "09c4917c",
   "metadata": {},
   "outputs": [
    {
     "name": "stdout",
     "output_type": "stream",
     "text": [
      "Supercalifragilisticexpialidocious\n"
     ]
    }
   ],
   "source": [
    "# Answer 2.3\n",
    "words = [\"Supercalifragilisticexpialidocious\", \"Honorificabilitudinitatibus\", \"Bababadalgharaghtakamminarronnkonn\"]\n",
    "longest_word = max(words)\n",
    "print(longest_word)"
   ]
  },
  {
   "cell_type": "code",
   "execution_count": 78,
   "id": "7019e1e2",
   "metadata": {},
   "outputs": [
    {
     "name": "stdout",
     "output_type": "stream",
     "text": [
      "Minimum value is: Bartok\n",
      "Maximum value is: Buxtehude\n"
     ]
    }
   ],
   "source": [
    "# Answer 2.4\n",
    "composers = ['Berlioz', 'Borodin', 'Brian', 'Bartok', 'Bellini', 'Buxtehude', 'Bernstein']\n",
    "print(\"Minimum value is:\",min(composers))\n",
    "print(\"Maximum value is:\",max(composers))"
   ]
  },
  {
   "cell_type": "markdown",
   "id": "cad3b6a3",
   "metadata": {},
   "source": [
    "## <u>Question 3:</u>\n",
    "Implement function triangleArea(a,b,c) that takes as input the lengths of the 3\n",
    "sides of a triangle and returns the area of the triangle.  \n",
    "By Heron's formula, the area\n",
    "of a triangle with side lengths a, b, and c is\n",
    "s(s - a)(s -b)(s -c), wheres = (a+b+c)/2.\n",
    "  \n",
    "<br>\n",
    "Values to be passed: triangleArea(2,2,2)\n",
    "<br>\n",
    "Expected Answer: 1.7320508075688772\n"
   ]
  },
  {
   "cell_type": "code",
   "execution_count": 79,
   "id": "138bbff1",
   "metadata": {},
   "outputs": [
    {
     "name": "stdout",
     "output_type": "stream",
     "text": [
      "1.7320508075688772\n"
     ]
    }
   ],
   "source": [
    "import math\n",
    "def triangleArea(a, b, c):\n",
    "    s = (a+b+c)/2\n",
    "    return math.sqrt(s*(s-a)*(s-b)*(s-c))\n",
    "print(triangleArea(2,2,2))\n",
    "    "
   ]
  },
  {
   "cell_type": "markdown",
   "id": "b112094c",
   "metadata": {},
   "source": [
    "## <u>Question 4:</u>\n",
    "Write a program in python to separate odd and even integers in separate arrays. Go\n",
    "to the editor  \n",
    "Test Data :  \n",
    "Input the number of elements to be stored in the array :5  \n",
    "Input 5 elements in the array :  \n",
    "element - 0 : 25  \n",
    "element - 1 : 47  \n",
    "element - 2 : 42  \n",
    "element - 3 : 56  \n",
    "element - 4 : 32  \n",
    "Expected Output:  \n",
    "The Even elements are:  \n",
    "42 56 32  \n",
    "The Odd elements are :  \n",
    "25 47  "
   ]
  },
  {
   "cell_type": "code",
   "execution_count": 80,
   "id": "c6be3e7e",
   "metadata": {},
   "outputs": [
    {
     "name": "stdout",
     "output_type": "stream",
     "text": [
      "Even numbers: [42, 56, 32]\n",
      "Odd numbers: [25, 47]\n"
     ]
    }
   ],
   "source": [
    "myList = [25,47,42,56,32]\n",
    "evenNumbers = []\n",
    "oddNumbers = []\n",
    "for eachElement in myList:\n",
    "    if eachElement%2 == 0:\n",
    "        evenNumbers.append(eachElement)\n",
    "    else:\n",
    "        oddNumbers.append(eachElement)\n",
    "print(\"Even numbers:\", evenNumbers)\n",
    "print(\"Odd numbers:\", oddNumbers)\n",
    "            "
   ]
  },
  {
   "cell_type": "markdown",
   "id": "fc7d14c1",
   "metadata": {},
   "source": [
    "## <u>Question 5:</u>\n",
    "1. Write a function inside(x,y,x1,y1,x2,y2) that returns True or False\n",
    "depending on whether the point (x,y) lies in the rectangle with lower left\n",
    "corner (x1,y1) and upper right corner (x2,y2).  \n",
    "inside(1,1,0,0,2,3)  \n",
    "True  \n",
    "inside(-1,-1,0,0,2,3)  \n",
    "False  \n",
    "2. Use function inside() from part a. to write an expression that tests whether\n",
    "the point (1,1) lies in both of the following rectangles: one with lower left\n",
    "corner (0.3, 0.5) and upper right corner (1.1, 0.7) and the other with lower\n",
    "left corner (0.5, 0.2) and upper right corner (1.1, 2). "
   ]
  },
  {
   "cell_type": "code",
   "execution_count": 84,
   "id": "fa50e525",
   "metadata": {},
   "outputs": [
    {
     "name": "stdout",
     "output_type": "stream",
     "text": [
      "True\n",
      "False\n"
     ]
    }
   ],
   "source": [
    "# Answer 5.1\n",
    "def inside(x,y,x1,y1,x2,y2):\n",
    "    # If the coordinate is inside the Rectangle return True. Else return False.\n",
    "    if x>=x1 and y>=y1 and x<=x2 and y<=y2:\n",
    "        return True\n",
    "    else:\n",
    "        return False\n",
    "\n",
    "print(inside(1,1,0,0,2,3))\n",
    "print(inside(-1,-1,0,0,2,3))\n",
    "        "
   ]
  },
  {
   "cell_type": "code",
   "execution_count": 82,
   "id": "74eb5407",
   "metadata": {},
   "outputs": [
    {
     "name": "stdout",
     "output_type": "stream",
     "text": [
      "Not inside both the rectangles.\n"
     ]
    }
   ],
   "source": [
    "# Answer 5.2\n",
    "if inside(1,1,0.3,0.5,1.1,0.7) and inside(1,1,0.5,0.2,1.1,2):\n",
    "    print(\"Inside both the rectangles.\")\n",
    "else:\n",
    "    print(\"Not inside both the rectangles.\")"
   ]
  },
  {
   "cell_type": "markdown",
   "id": "9f30f962",
   "metadata": {},
   "source": [
    "## <u>Question 6:</u>\n",
    "You can turn a word into pig-Latin using the following two rules (simplified):\n",
    "1. If the word starts with a consonant, move that letter to the end and append\n",
    "'ay'. For example, 'happy' becomes 'appyhay' and 'pencil' becomes 'encilpay'.  \n",
    "2. If the word starts with a vowel, simply append 'way' to the end of the word.\n",
    "For example, 'enter' becomes 'enterway' and 'other' becomes 'otherway' . For\n",
    "our purposes, there are 5 vowels: a, e, i, o, u (so we count y as a consonant).\n",
    "Write a function pig() that takes a word (i.e., a string) as input and returns its pigLatin form.  \n",
    "Your function should still work if the input word contains upper case\n",
    "characters. Your output should always be lower case however.  \n",
    "pig('happy')  \n",
    "'appyhay'  \n",
    "pig('Enter')  \n",
    "'enterway' "
   ]
  },
  {
   "cell_type": "code",
   "execution_count": 83,
   "id": "b7777095",
   "metadata": {},
   "outputs": [
    {
     "name": "stdout",
     "output_type": "stream",
     "text": [
      "appyhay\n",
      "enterway\n"
     ]
    }
   ],
   "source": [
    "def pig(inputString):\n",
    "    inputStringLowerCase = inputString.lower()\n",
    "    firstChar = inputStringLowerCase[0]\n",
    "    if 'a' == firstChar or 'e' == firstChar or 'i' == firstChar or 'o' == firstChar or 'u' == firstChar:\n",
    "        return inputStringLowerCase + 'way'\n",
    "    else:\n",
    "        # https://www.w3schools.com/python/ref_string_replace.asp\n",
    "        modifiedString = inputStringLowerCase.replace(firstChar,'',1) + firstChar + 'ay'\n",
    "        return modifiedString\n",
    "    \n",
    "        \n",
    "print(pig(\"happy\"))\n",
    "print(pig(\"Enter\"))"
   ]
  },
  {
   "cell_type": "markdown",
   "id": "968ec499",
   "metadata": {},
   "source": [
    "## <u>Question 7:</u>\n",
    "File bloodtype1.txt records blood-types of patients (A, B, AB, O or OO) at a clinic.  \n",
    "Write a function bldcount() that reads the file with name name and reports (i.e. prints) how many patients there are in each bloodtype.  \n",
    "  \n",
    "bldcount('bloodtype.txt')\n",
    "  \n",
    "There are 10 patients of blood type A.  \n",
    "There is one patient of blood type B.  \n",
    "There are 10 patients of blood type AB.  \n",
    "There are 12 patients of blood type O.  \n",
    "There are no patients of blood type OO.  \n"
   ]
  },
  {
   "cell_type": "code",
   "execution_count": 27,
   "id": "b56dd4ea",
   "metadata": {},
   "outputs": [
    {
     "name": "stdout",
     "output_type": "stream",
     "text": [
      "There are 15 patients of blood type A.\n",
      "There is one patient of blood type B.\n",
      "There are 13 patients of blood type AB.\n",
      "There are 15 patients of blood type O.\n",
      "There are no patients of blood type OO.\n"
     ]
    }
   ],
   "source": [
    "def bldcount(name):\n",
    "    file = open(name)\n",
    "    fileContent = file.read()\n",
    "    file.close()\n",
    "    fileList = fileContent.split(\" \")\n",
    "    availableBloodTypes = ['A', 'B', 'AB', 'O', 'OO']\n",
    "    for bloodType in availableBloodTypes:\n",
    "        bloodTypeCount = fileList.count(bloodType)\n",
    "        if(bloodTypeCount == 0):\n",
    "            strVal = \"are no patients\"\n",
    "        elif(bloodTypeCount == 1):\n",
    "            strVal = \"is one patient\"\n",
    "        else:\n",
    "            strVal = \"are {} patients\".format(bloodTypeCount)\n",
    "        print('There {} of blood type {}.'.format(strVal,bloodType))\n",
    "        \n",
    "bldcount('bloodtype1.txt')"
   ]
  },
  {
   "cell_type": "markdown",
   "id": "acb4c1bd",
   "metadata": {},
   "source": [
    "## <u>Question 8:</u>\n",
    "Write a function curconv() that takes as input:\n",
    "1. a currency represented using a string (e.g., 'JPY' for the Japanese Yen or 'EUR' for the Euro)\n",
    "2. an amount  \n",
    "and then converts and returns the amount in US dollars.  \n",
    "  \n",
    "curconv('EUR', 100)  \n",
    "122.96544  \n",
    "curconv('JPY', 100)  \n",
    "1.241401  \n",
    "\n",
    "The currency rates you will need are stored in file currencies.txt:  \n",
    "AUD 1.0345157 Australian Dollar  \n",
    "CHF 1.0237414 Swiss Franc  \n",
    "CNY 0.1550176 Chinese Yuan  \n",
    "DKK 0.1651442 Danish Krone  \n",
    "EUR 1.2296544 Euro  \n",
    "GBP 1.5550989 British Pound  \n",
    "HKD 0.1270207 Hong Kong Dollar  \n",
    "INR 0.0177643 Indian Rupee  \n",
    "JPY 0.01241401 Japanese Yen  \n",
    "MXN 0.0751848 Mexican Peso  \n",
    "MYR 0.3145411 Malaysian Ringgit  \n",
    "NOK 0.1677063 Norwegian Krone  \n",
    "NZD 0.8003591 New Zealand Dollar  \n",
    "PHP 0.0233234 Philippine Peso  \n",
    "SEK 0.148269 Swedish Krona  \n",
    "SGD 0.788871 Singapore Dollar  \n",
    "THB 0.0313789 Thai Baht  \n",
    "\n",
    " "
   ]
  },
  {
   "cell_type": "code",
   "execution_count": 25,
   "id": "cddd0418",
   "metadata": {},
   "outputs": [
    {
     "name": "stdout",
     "output_type": "stream",
     "text": [
      "122.96544\n",
      "1.241401\n"
     ]
    }
   ],
   "source": [
    "def curconv(inputCurrency, amount):\n",
    "    exchange_rates = {}\n",
    "    with open(\"currencies.txt\") as f:\n",
    "        for line in f:\n",
    "            lineValue = line.strip().split(\"\\t\")\n",
    "            currency = lineValue[0]\n",
    "            exchangeRate = float(lineValue[1])\n",
    "            name = lineValue[2:]\n",
    "            if(inputCurrency == currency):\n",
    "                print(amount*exchangeRate)\n",
    "                return\n",
    "        print('No Match found for your currency: {}'.format(inputCurrency))\n",
    "    \n",
    "curconv('EUR', 100)\n",
    "curconv('JPY', 100)\n"
   ]
  },
  {
   "cell_type": "markdown",
   "id": "fe80ca2e",
   "metadata": {},
   "source": [
    "## <u>Question 9:</u>\n",
    "Each of the following will cause an exception (an error). Identify what type of\n",
    "exception each will cause  \n",
    "\n",
    "> 1. Trying to add incompatible variables, as in  \n",
    "> adding 6 + ‘a’\n",
    ">  \n",
    "> 2. Referring to the 12th item of a list that has only 10 \n",
    "> items\n",
    ">  \n",
    "> 3. Using a value that is out of range for a function’s  \n",
    "> input, such as calling math.sqrt(-1.0)  \n",
    ">  \n",
    "> 4. Using an undeclared variable, such as print(x)  \n",
    "> when x has not been defined  \n",
    ">  \n",
    "> 5. Trying to open a file that does not exist, such as  \n",
    "> mistyping the file name or looking in the wrong  \n",
    "> directory.  "
   ]
  },
  {
   "cell_type": "markdown",
   "id": "a180d6ba",
   "metadata": {},
   "source": [
    "### Answer 9  \n",
    "1 TypeError  \n",
    "2 IndexError  \n",
    "3 ValueError  \n",
    "4 NameError  \n",
    "5 IOError  \n"
   ]
  },
  {
   "cell_type": "markdown",
   "id": "30107d1a",
   "metadata": {},
   "source": [
    "# <u>Question 10:</u> \n",
    "Encryption is the process of hiding the meaning of a text by substituting letters in the\n",
    "message with other letters, according to some system. If the process is successful, no\n",
    "one but the intended recipient can understand the encrypted message. Cryptanalysis\n",
    "refers to attempts to undo the encryption, even if some details of the encryption are\n",
    "unknown (for example, if an encrypted message has been intercepted). The first step\n",
    "of cryptanalysis is often to build up a table of letter frequencies in the encrypted text.\n",
    "Assume that the string letters is already defined as\n",
    "'abcdefghijklmnopqrstuvwxyz'. Write a function called frequencies()\n",
    "that takes a string as its only parameter, and returns a list of integers, showing the\n",
    "number of times each character appears in the text. Your function may ignore any\n",
    "characters that are not in letters.  \n",
    "  \n",
    "frequencies('The quick red fox got bored and went home.')  \n",
    "[1, 1, 1, 3, 5, 1, 1, 2, 1, 0, 1, 0, 1, 2, 4, 0, 1, 2, 0, 2,\n",
    "1, 0, 1, 1, 0, 0]  \n",
    "frequencies('apple')"
   ]
  },
  {
   "cell_type": "code",
   "execution_count": 5,
   "id": "14422438",
   "metadata": {},
   "outputs": [
    {
     "name": "stdout",
     "output_type": "stream",
     "text": [
      "[1, 0, 0, 0, 1, 0, 0, 0, 0, 0, 0, 1, 0, 0, 0, 2, 0, 0, 0, 0, 0, 0, 0, 0, 0, 0]\n"
     ]
    }
   ],
   "source": [
    "def frequencies(inputString):\n",
    "    alphabetString = \"abcdefghijklmnopqrstuvwxyz\"\n",
    "    cryptFrequencies =[]\n",
    "    for char in alphabetString:\n",
    "        count = inputString.count(char)\n",
    "        cryptFrequencies.append(count)\n",
    "    print(cryptFrequencies)\n",
    "frequencies('apple')"
   ]
  }
 ],
 "metadata": {
  "kernelspec": {
   "display_name": "Python 3 (ipykernel)",
   "language": "python",
   "name": "python3"
  },
  "language_info": {
   "codemirror_mode": {
    "name": "ipython",
    "version": 3
   },
   "file_extension": ".py",
   "mimetype": "text/x-python",
   "name": "python",
   "nbconvert_exporter": "python",
   "pygments_lexer": "ipython3",
   "version": "3.9.13"
  }
 },
 "nbformat": 4,
 "nbformat_minor": 5
}
